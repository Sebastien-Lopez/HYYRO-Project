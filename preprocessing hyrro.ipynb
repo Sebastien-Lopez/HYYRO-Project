{
 "cells": [
  {
   "cell_type": "code",
   "execution_count": 1,
   "metadata": {},
   "outputs": [],
   "source": [
    "import pandas as pd"
   ]
  },
  {
   "cell_type": "code",
   "execution_count": 2,
   "metadata": {},
   "outputs": [],
   "source": [
    "from collections import Counter"
   ]
  },
  {
   "cell_type": "code",
   "execution_count": 3,
   "metadata": {},
   "outputs": [],
   "source": [
    "import re as re"
   ]
  },
  {
   "cell_type": "code",
   "execution_count": 4,
   "metadata": {},
   "outputs": [],
   "source": [
    "import nltk"
   ]
  },
  {
   "cell_type": "code",
   "execution_count": 5,
   "metadata": {},
   "outputs": [],
   "source": [
    "dataset = pd.read_csv('gumtree Scrapping data.csv')"
   ]
  },
  {
   "cell_type": "code",
   "execution_count": 6,
   "metadata": {},
   "outputs": [
    {
     "data": {
      "text/html": [
       "<div>\n",
       "<style scoped>\n",
       "    .dataframe tbody tr th:only-of-type {\n",
       "        vertical-align: middle;\n",
       "    }\n",
       "\n",
       "    .dataframe tbody tr th {\n",
       "        vertical-align: top;\n",
       "    }\n",
       "\n",
       "    .dataframe thead th {\n",
       "        text-align: right;\n",
       "    }\n",
       "</style>\n",
       "<table border=\"1\" class=\"dataframe\">\n",
       "  <thead>\n",
       "    <tr style=\"text-align: right;\">\n",
       "      <th></th>\n",
       "      <th>Unnamed: 0</th>\n",
       "      <th>Title</th>\n",
       "      <th>Description</th>\n",
       "      <th>Price</th>\n",
       "      <th>Location</th>\n",
       "      <th>Ad Link</th>\n",
       "      <th>Category</th>\n",
       "      <th>Latitude</th>\n",
       "      <th>Longitude</th>\n",
       "    </tr>\n",
       "  </thead>\n",
       "  <tbody>\n",
       "    <tr>\n",
       "      <th>0</th>\n",
       "      <td>0</td>\n",
       "      <td>Maple dining table with chairs (matching Side ...</td>\n",
       "      <td>Beautiful Solid Queensland fiddleback maple di...</td>\n",
       "      <td>$800 negotiable</td>\n",
       "      <td>Bayside Area, Brighton</td>\n",
       "      <td>/s-ad/brighton/antiques/maple-dining-table-wit...</td>\n",
       "      <td>antiques-art-collectables</td>\n",
       "      <td>-37.9081962</td>\n",
       "      <td>144.9957991</td>\n",
       "    </tr>\n",
       "    <tr>\n",
       "      <th>1</th>\n",
       "      <td>1</td>\n",
       "      <td>Art Deco painting (from original).</td>\n",
       "      <td>Art Deco painting on board with frame from ori...</td>\n",
       "      <td>$600</td>\n",
       "      <td>Glen Eira Area, Bentleigh</td>\n",
       "      <td>/s-ad/bentleigh/art/art-deco-painting-from-ori...</td>\n",
       "      <td>antiques-art-collectables</td>\n",
       "      <td>-37.9185101</td>\n",
       "      <td>145.0409246</td>\n",
       "    </tr>\n",
       "    <tr>\n",
       "      <th>2</th>\n",
       "      <td>2</td>\n",
       "      <td>Art Deco painting on canvas.</td>\n",
       "      <td>Art Deco painting on canvas from original \"And...</td>\n",
       "      <td>$600</td>\n",
       "      <td>Glen Eira Area, Bentleigh</td>\n",
       "      <td>/s-ad/bentleigh/art/art-deco-painting-on-canva...</td>\n",
       "      <td>antiques-art-collectables</td>\n",
       "      <td>-37.9185101</td>\n",
       "      <td>145.0409246</td>\n",
       "    </tr>\n",
       "    <tr>\n",
       "      <th>3</th>\n",
       "      <td>3</td>\n",
       "      <td>Horse Racing Memorabilia - Black Caviar.</td>\n",
       "      <td>Black caviar memorabilia framed, in excellent ...</td>\n",
       "      <td>$1,500</td>\n",
       "      <td>Kingston Area, Carrum</td>\n",
       "      <td>/s-ad/carrum/collectables/horse-racing-memorab...</td>\n",
       "      <td>antiques-art-collectables</td>\n",
       "      <td>-38.0767264</td>\n",
       "      <td>145.1280098</td>\n",
       "    </tr>\n",
       "    <tr>\n",
       "      <th>4</th>\n",
       "      <td>4</td>\n",
       "      <td>Pokemon Cards Wanted - $Cash Paid$ - Same Day ...</td>\n",
       "      <td>Hey all I’m into old pokemon cards and am happ...</td>\n",
       "      <td>$100,000</td>\n",
       "      <td>Melbourne City, Melbourne CBD</td>\n",
       "      <td>/s-ad/melbourne-cbd/collectables/pokemon-cards...</td>\n",
       "      <td>antiques-art-collectables</td>\n",
       "      <td>-37.8152834</td>\n",
       "      <td>144.9618789</td>\n",
       "    </tr>\n",
       "  </tbody>\n",
       "</table>\n",
       "</div>"
      ],
      "text/plain": [
       "   Unnamed: 0                                              Title  \\\n",
       "0           0  Maple dining table with chairs (matching Side ...   \n",
       "1           1                 Art Deco painting (from original).   \n",
       "2           2                       Art Deco painting on canvas.   \n",
       "3           3           Horse Racing Memorabilia - Black Caviar.   \n",
       "4           4  Pokemon Cards Wanted - $Cash Paid$ - Same Day ...   \n",
       "\n",
       "                                         Description             Price  \\\n",
       "0  Beautiful Solid Queensland fiddleback maple di...   $800 negotiable   \n",
       "1  Art Deco painting on board with frame from ori...             $600    \n",
       "2  Art Deco painting on canvas from original \"And...             $600    \n",
       "3  Black caviar memorabilia framed, in excellent ...           $1,500    \n",
       "4  Hey all I’m into old pokemon cards and am happ...         $100,000    \n",
       "\n",
       "                         Location  \\\n",
       "0          Bayside Area, Brighton   \n",
       "1       Glen Eira Area, Bentleigh   \n",
       "2       Glen Eira Area, Bentleigh   \n",
       "3           Kingston Area, Carrum   \n",
       "4   Melbourne City, Melbourne CBD   \n",
       "\n",
       "                                             Ad Link  \\\n",
       "0  /s-ad/brighton/antiques/maple-dining-table-wit...   \n",
       "1  /s-ad/bentleigh/art/art-deco-painting-from-ori...   \n",
       "2  /s-ad/bentleigh/art/art-deco-painting-on-canva...   \n",
       "3  /s-ad/carrum/collectables/horse-racing-memorab...   \n",
       "4  /s-ad/melbourne-cbd/collectables/pokemon-cards...   \n",
       "\n",
       "                    Category     Latitude    Longitude  \n",
       "0  antiques-art-collectables  -37.9081962  144.9957991  \n",
       "1  antiques-art-collectables  -37.9185101  145.0409246  \n",
       "2  antiques-art-collectables  -37.9185101  145.0409246  \n",
       "3  antiques-art-collectables  -38.0767264  145.1280098  \n",
       "4  antiques-art-collectables  -37.8152834  144.9618789  "
      ]
     },
     "execution_count": 6,
     "metadata": {},
     "output_type": "execute_result"
    }
   ],
   "source": [
    "dataset.head(5)"
   ]
  },
  {
   "cell_type": "code",
   "execution_count": 7,
   "metadata": {},
   "outputs": [
    {
     "data": {
      "text/html": [
       "<div>\n",
       "<style scoped>\n",
       "    .dataframe tbody tr th:only-of-type {\n",
       "        vertical-align: middle;\n",
       "    }\n",
       "\n",
       "    .dataframe tbody tr th {\n",
       "        vertical-align: top;\n",
       "    }\n",
       "\n",
       "    .dataframe thead th {\n",
       "        text-align: right;\n",
       "    }\n",
       "</style>\n",
       "<table border=\"1\" class=\"dataframe\">\n",
       "  <thead>\n",
       "    <tr style=\"text-align: right;\">\n",
       "      <th></th>\n",
       "      <th>Unnamed: 0</th>\n",
       "      <th>Title</th>\n",
       "      <th>Description</th>\n",
       "      <th>Price</th>\n",
       "      <th>Location</th>\n",
       "      <th>Ad Link</th>\n",
       "      <th>Category</th>\n",
       "      <th>Latitude</th>\n",
       "      <th>Longitude</th>\n",
       "      <th>splitwords</th>\n",
       "    </tr>\n",
       "  </thead>\n",
       "  <tbody>\n",
       "    <tr>\n",
       "      <th>0</th>\n",
       "      <td>0</td>\n",
       "      <td>Maple dining table with chairs (matching Side ...</td>\n",
       "      <td>Beautiful Solid Queensland fiddleback maple di...</td>\n",
       "      <td>$800 negotiable</td>\n",
       "      <td>Bayside Area, Brighton</td>\n",
       "      <td>/s-ad/brighton/antiques/maple-dining-table-wit...</td>\n",
       "      <td>antiques-art-collectables</td>\n",
       "      <td>-37.9081962</td>\n",
       "      <td>144.9957991</td>\n",
       "      <td>[Beautiful, Solid, Queensland, fiddleback, map...</td>\n",
       "    </tr>\n",
       "    <tr>\n",
       "      <th>1</th>\n",
       "      <td>1</td>\n",
       "      <td>Art Deco painting (from original).</td>\n",
       "      <td>Art Deco painting on board with frame from ori...</td>\n",
       "      <td>$600</td>\n",
       "      <td>Glen Eira Area, Bentleigh</td>\n",
       "      <td>/s-ad/bentleigh/art/art-deco-painting-from-ori...</td>\n",
       "      <td>antiques-art-collectables</td>\n",
       "      <td>-37.9185101</td>\n",
       "      <td>145.0409246</td>\n",
       "      <td>[Art, Deco, painting, on, board, with, frame, ...</td>\n",
       "    </tr>\n",
       "  </tbody>\n",
       "</table>\n",
       "</div>"
      ],
      "text/plain": [
       "   Unnamed: 0                                              Title  \\\n",
       "0           0  Maple dining table with chairs (matching Side ...   \n",
       "1           1                 Art Deco painting (from original).   \n",
       "\n",
       "                                         Description             Price  \\\n",
       "0  Beautiful Solid Queensland fiddleback maple di...   $800 negotiable   \n",
       "1  Art Deco painting on board with frame from ori...             $600    \n",
       "\n",
       "                     Location  \\\n",
       "0      Bayside Area, Brighton   \n",
       "1   Glen Eira Area, Bentleigh   \n",
       "\n",
       "                                             Ad Link  \\\n",
       "0  /s-ad/brighton/antiques/maple-dining-table-wit...   \n",
       "1  /s-ad/bentleigh/art/art-deco-painting-from-ori...   \n",
       "\n",
       "                    Category     Latitude    Longitude  \\\n",
       "0  antiques-art-collectables  -37.9081962  144.9957991   \n",
       "1  antiques-art-collectables  -37.9185101  145.0409246   \n",
       "\n",
       "                                          splitwords  \n",
       "0  [Beautiful, Solid, Queensland, fiddleback, map...  \n",
       "1  [Art, Deco, painting, on, board, with, frame, ...  "
      ]
     },
     "execution_count": 7,
     "metadata": {},
     "output_type": "execute_result"
    }
   ],
   "source": [
    "dataset['splitwords'] = dataset['Description'].str.split()\n",
    "dataset.head(2)"
   ]
  },
  {
   "cell_type": "code",
   "execution_count": 8,
   "metadata": {},
   "outputs": [],
   "source": [
    "def search_words(text):\n",
    "    result = re.findall(r'\\b[^\\d\\W]+\\b', text)\n",
    "    return \" \".join(result)"
   ]
  },
  {
   "cell_type": "code",
   "execution_count": 9,
   "metadata": {},
   "outputs": [
    {
     "name": "stdout",
     "output_type": "stream",
     "text": [
      "[('Art', 1), ('Deco', 1), ('painting', 1), ('on', 1), ('board', 1), ('with', 1), ('frame', 1), ('from', 1), ('original', 1), ('Group', 1)]\n"
     ]
    }
   ],
   "source": [
    "words = re.findall('\\w+',dataset['Description'].iloc[1])\n",
    "print(Counter(words).most_common(10))"
   ]
  },
  {
   "cell_type": "code",
   "execution_count": 10,
   "metadata": {},
   "outputs": [],
   "source": [
    "out = ' '.join(dataset[\"Description\"].astype(str))\n",
    "out_title = ' '.join(dataset[\"Title\"].astype(str))\n"
   ]
  },
  {
   "cell_type": "code",
   "execution_count": 11,
   "metadata": {},
   "outputs": [
    {
     "name": "stdout",
     "output_type": "stream",
     "text": [
      "[('and', 3013), ('to', 1966), ('the', 1706), ('a', 1669), ('for', 1591), ('with', 1516), ('in', 1494), ('is', 1293), ('of', 1138), ('or', 679), ('on', 673), ('you', 646), ('are', 616), ('from', 595), ('up', 568), ('2', 565), ('available', 495), ('The', 470), ('have', 436), ('all', 434), ('at', 427), ('as', 426), ('condition', 425), ('s', 416), ('I', 415), ('your', 403), ('4', 389), ('1', 384), ('5', 384), ('can', 379), ('3', 368), ('our', 357), ('new', 339), ('it', 336), ('be', 330), ('We', 326), ('x', 303), ('6', 276), ('This', 264), ('has', 258), ('will', 247), ('only', 244), ('this', 235), ('not', 225), ('8', 220), ('10', 220), ('Pick', 218), ('by', 218), ('we', 215), ('one', 210), ('good', 210), ('that', 207), ('New', 190), ('pick', 190), ('my', 189), ('an', 189), ('9', 187), ('very', 187), ('if', 181), ('Please', 180), ('also', 179), ('more', 179), ('no', 179), ('used', 176), ('but', 175), ('Size', 172), ('Melbourne', 171), ('been', 168), ('A', 167), ('Box', 167), ('7', 166), ('store', 156), ('12', 154), ('Brand', 153), ('sale', 150), ('size', 150), ('any', 149), ('great', 149), ('room', 149), ('each', 148), ('out', 146), ('quality', 145), ('It', 145), ('well', 142), ('price', 140), ('large', 139), ('All', 138), ('house', 137), ('us', 136), ('me', 136), ('home', 132), ('hours', 131), ('so', 130), ('free', 130), ('just', 129), ('Australia', 127), ('t', 127), ('system', 125), ('delivery', 124), ('other', 121)]\n"
     ]
    }
   ],
   "source": [
    "words = re.findall('\\w+',out)\n",
    "print(Counter(words).most_common(100))"
   ]
  },
  {
   "cell_type": "code",
   "execution_count": 12,
   "metadata": {},
   "outputs": [
    {
     "name": "stdout",
     "output_type": "stream",
     "text": [
      "[('and', 3013), ('to', 1966), ('the', 1706), ('a', 1669), ('for', 1591), ('with', 1516), ('in', 1494), ('is', 1293), ('of', 1138), ('or', 679), ('on', 673), ('you', 646), ('are', 616), ('from', 595), ('up', 568), ('2', 565), ('available', 495), ('The', 470), ('have', 436), ('all', 434), ('at', 427), ('as', 426), ('condition', 425), ('s', 416), ('I', 415), ('your', 403), ('4', 389), ('1', 384), ('5', 384), ('can', 379), ('3', 368), ('our', 357), ('new', 339), ('it', 336), ('be', 330), ('We', 326), ('x', 303), ('6', 276), ('This', 264), ('has', 258), ('will', 247), ('only', 244), ('this', 235), ('not', 225), ('8', 220), ('10', 220), ('Pick', 218), ('by', 218), ('we', 215), ('one', 210), ('good', 210), ('that', 207), ('New', 190), ('pick', 190), ('my', 189), ('an', 189), ('9', 187), ('very', 187), ('if', 181), ('Please', 180), ('also', 179), ('more', 179), ('no', 179), ('used', 176), ('but', 175), ('Size', 172), ('Melbourne', 171), ('been', 168), ('A', 167), ('Box', 167), ('7', 166), ('store', 156), ('12', 154), ('Brand', 153), ('sale', 150), ('size', 150), ('any', 149), ('great', 149), ('room', 149), ('each', 148), ('out', 146), ('quality', 145), ('It', 145), ('well', 142), ('price', 140), ('large', 139), ('All', 138), ('house', 137), ('us', 136), ('me', 136), ('home', 132), ('hours', 131), ('so', 130), ('free', 130), ('just', 129), ('Australia', 127), ('t', 127), ('system', 125), ('delivery', 124), ('other', 121)]\n"
     ]
    }
   ],
   "source": [
    "words_title = re.findall('\\w+',out_title)\n",
    "print(Counter(words).most_common(100))"
   ]
  },
  {
   "cell_type": "code",
   "execution_count": 13,
   "metadata": {},
   "outputs": [],
   "source": [
    "banned = ['and', 'to', 'the', 'a', 'for','with', 'in','is', 'of', 'or', 'on', 'you', 'are', 'from', 'up', '2', 'available'\n",
    "               ,'The', 'Have', 'all', 'at', 'as', 'condition' , 's', 'I', 'your','4',  '1', '5', 'can', '3', 'our', 'new',\n",
    "                'it', 'be', 'We','x', '6','This','has','will','only','this', 'New', 'pick','my','an','9','very', 'if',\n",
    "               'Please', 'also','more','no', 'but', 'Size', 'Melbourne', 'been', 'A', '7', 'store', '12', 'Brand', 'sale', 'any'\n",
    "               ,'great','It', 'well', 'price','All', 'us', 'me', 'so', 'just', 'Australia', 't', 'Hey', \"i'm\", 'hey',\"I\\'m\",'hi'\n",
    "         , 'Hi',\"I’m\"]"
   ]
  },
  {
   "cell_type": "code",
   "execution_count": 14,
   "metadata": {},
   "outputs": [],
   "source": [
    "f = lambda x: ' '.join([item for item in x.split() if item not in banned])\n",
    "dataset[\"Description_cleaned\"] = dataset[\"Description\"].astype(str).apply(f)\n"
   ]
  },
  {
   "cell_type": "code",
   "execution_count": 15,
   "metadata": {},
   "outputs": [],
   "source": [
    "f = lambda x: ' '.join([item for item in x.split() if item not in banned])\n",
    "dataset[\"Title_cleaned\"] = dataset[\"Title\"].astype(str).apply(f)\n"
   ]
  },
  {
   "cell_type": "code",
   "execution_count": 16,
   "metadata": {},
   "outputs": [
    {
     "data": {
      "text/plain": [
       "0       Maple dining table chairs (matching Side Board...\n",
       "1                      Art Deco painting (from original).\n",
       "2                               Art Deco painting canvas.\n",
       "3                Horse Racing Memorabilia - Black Caviar.\n",
       "4       Pokemon Cards Wanted - $Cash Paid$ - Same Day ...\n",
       "                              ...                        \n",
       "2402                                      BMX STYLE BIKE.\n",
       "2403    Everlast Precision Leather Double-Ended Strike...\n",
       "2404    Mag Bike Dual-Purpose Bodyworx ADPE 8 Levels R...\n",
       "2405    UNDER ARMOUR mens compression shorts M *NEW WI...\n",
       "2406       Everlast Adjustable Speedball Platform In Box.\n",
       "Name: Title_cleaned, Length: 2407, dtype: object"
      ]
     },
     "execution_count": 16,
     "metadata": {},
     "output_type": "execute_result"
    }
   ],
   "source": [
    "dataset[\"Title_cleaned\"]"
   ]
  },
  {
   "cell_type": "code",
   "execution_count": 17,
   "metadata": {},
   "outputs": [
    {
     "data": {
      "text/plain": [
       "0       Beautiful Solid Queensland fiddleback maple di...\n",
       "1       Art Deco painting board frame original \"Group ...\n",
       "2       Art Deco painting canvas original \"Andromeda N...\n",
       "3       Black caviar memorabilia framed, excellent con...\n",
       "4       into old pokemon cards am happy come pickup it...\n",
       "                              ...                        \n",
       "2402    got BMX style bike 20' Weels colour orange AVI...\n",
       "2403    Everlast double-ended striking bag. 𝗞𝗲𝘆 𝗙𝗲𝗮𝘁𝘂𝗿...\n",
       "2404    Bodyworx ADPE Duo Exerciser Mag Bike, compact ...\n",
       "2405             compression pants pay/pickup eltham 3095\n",
       "2406    24-inch diameter board hold size speedbag 1-in...\n",
       "Name: Description_cleaned, Length: 2407, dtype: object"
      ]
     },
     "execution_count": 17,
     "metadata": {},
     "output_type": "execute_result"
    }
   ],
   "source": [
    "dataset[\"Description_cleaned\"]"
   ]
  },
  {
   "cell_type": "code",
   "execution_count": 18,
   "metadata": {},
   "outputs": [],
   "source": [
    "from nltk.stem import PorterStemmer\n",
    "from nltk.stem import LancasterStemmer"
   ]
  },
  {
   "cell_type": "code",
   "execution_count": 19,
   "metadata": {},
   "outputs": [],
   "source": [
    "porter = PorterStemmer()\n",
    "lancaster=LancasterStemmer()"
   ]
  },
  {
   "cell_type": "code",
   "execution_count": 20,
   "metadata": {},
   "outputs": [],
   "source": [
    "from nltk.tokenize import sent_tokenize, word_tokenize\n",
    "def stemSentence(sentence):\n",
    "    token_words=word_tokenize(sentence)\n",
    "    token_words\n",
    "    stem_sentence=[]\n",
    "    for word in token_words:\n",
    "        stem_sentence.append(lancaster.stem(word))\n",
    "        stem_sentence.append(\" \")\n",
    "    return \"\".join(stem_sentence)\n",
    "\n",
    "for i in range(len(dataset)):\n",
    "    dataset.loc[i,'title_stemmed_cleaned']=stemSentence(dataset.loc[i,'Title_cleaned'])\n",
    "\n"
   ]
  },
  {
   "cell_type": "code",
   "execution_count": 21,
   "metadata": {},
   "outputs": [],
   "source": [
    "for i in range(len(dataset)):\n",
    "    dataset.loc[i,'description_stemmed_cleaned']=stemSentence(dataset.loc[i,'Description_cleaned'])"
   ]
  },
  {
   "cell_type": "code",
   "execution_count": 22,
   "metadata": {},
   "outputs": [
    {
     "data": {
      "text/plain": [
       "0             mapl din tabl chair ( match sid board al . \n",
       "1                       art deco paint ( from origin ) . \n",
       "2                                 art deco paint canva . \n",
       "3                      hors rac memorabil - black cavi . \n",
       "4       pokemon card want - $ cash paid $ - sam day pi...\n",
       "                              ...                        \n",
       "2402                                      bmx styl bik . \n",
       "2403    everlast precid leath double-ended strike bag ...\n",
       "2404    mag bik dual-purpose bodyworx adp 8 level resi...\n",
       "2405    und armo men compress short m * new with tag * . \n",
       "2406          everlast adjust speedbal platform in box . \n",
       "Name: title_stemmed_cleaned, Length: 2407, dtype: object"
      ]
     },
     "execution_count": 22,
     "metadata": {},
     "output_type": "execute_result"
    }
   ],
   "source": [
    "dataset['title_stemmed_cleaned']"
   ]
  },
  {
   "cell_type": "code",
   "execution_count": 23,
   "metadata": {},
   "outputs": [
    {
     "data": {
      "text/plain": [
       "0       beauty solid queensland fiddleback mapl din ta...\n",
       "1       art deco paint board fram origin `` group four...\n",
       "2       art deco paint canva origin `` andromed nud ''...\n",
       "3       black cavi memorabil fram , excel condit . 115...\n",
       "4       into old pokemon card am happy com pickup item...\n",
       "                              ...                        \n",
       "2402    got bmx styl bik 20 ' weel colo orang avigostr...\n",
       "2403    everlast double-ended striking bag . 𝗞𝗲𝘆 𝗙𝗲𝗮𝘁𝘂...\n",
       "2404    bodyworx adp duo exerc mag bik , compact dual-...\n",
       "2405                compress pant pay/pickup eltham 3095 \n",
       "2406    24-inch diamet board hold siz speedb 1-inch th...\n",
       "Name: description_stemmed_cleaned, Length: 2407, dtype: object"
      ]
     },
     "execution_count": 23,
     "metadata": {},
     "output_type": "execute_result"
    }
   ],
   "source": [
    "dataset['description_stemmed_cleaned']"
   ]
  },
  {
   "cell_type": "code",
   "execution_count": 25,
   "metadata": {},
   "outputs": [],
   "source": [
    "from nltk.stem import WordNetLemmatizer "
   ]
  },
  {
   "cell_type": "code",
   "execution_count": 26,
   "metadata": {},
   "outputs": [],
   "source": [
    "lemmatizer = WordNetLemmatizer()"
   ]
  },
  {
   "cell_type": "code",
   "execution_count": 27,
   "metadata": {},
   "outputs": [],
   "source": [
    "from nltk.tokenize import sent_tokenize, word_tokenize\n",
    "def lemmatizeSentence(sentence):\n",
    "    token_words=word_tokenize(sentence)\n",
    "    token_words\n",
    "    stem_sentence=[]\n",
    "    for word in token_words:\n",
    "        stem_sentence.append(lemmatizer.lemmatize(word))\n",
    "        stem_sentence.append(\" \")\n",
    "    return \"\".join(stem_sentence)"
   ]
  },
  {
   "cell_type": "code",
   "execution_count": 28,
   "metadata": {},
   "outputs": [],
   "source": [
    "for i in range(len(dataset)):\n",
    "    dataset.loc[i,'title_lemma_cleaned']=lemmatizeSentence(dataset.loc[i,'Title_cleaned'])\n",
    "\n",
    "for i in range(len(dataset)):\n",
    "    dataset.loc[i,'description_lemma_cleaned']=lemmatizeSentence(dataset.loc[i,'Description_cleaned'])"
   ]
  }
 ],
 "metadata": {
  "kernelspec": {
   "display_name": "Python 3",
   "language": "python",
   "name": "python3"
  },
  "language_info": {
   "codemirror_mode": {
    "name": "ipython",
    "version": 3
   },
   "file_extension": ".py",
   "mimetype": "text/x-python",
   "name": "python",
   "nbconvert_exporter": "python",
   "pygments_lexer": "ipython3",
   "version": "3.8.5"
  }
 },
 "nbformat": 4,
 "nbformat_minor": 4
}
